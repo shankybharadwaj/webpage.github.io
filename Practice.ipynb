{
  "nbformat": 4,
  "nbformat_minor": 0,
  "metadata": {
    "colab": {
      "provenance": [],
      "authorship_tag": "ABX9TyPdTfCmgfYVDDm1vuKf3eEq",
      "include_colab_link": true
    },
    "kernelspec": {
      "name": "python3",
      "display_name": "Python 3"
    },
    "language_info": {
      "name": "python"
    }
  },
  "cells": [
    {
      "cell_type": "markdown",
      "metadata": {
        "id": "view-in-github",
        "colab_type": "text"
      },
      "source": [
        "<a href=\"https://colab.research.google.com/github/shankybharadwaj/webpage.github.io/blob/main/Practice.ipynb\" target=\"_parent\"><img src=\"https://colab.research.google.com/assets/colab-badge.svg\" alt=\"Open In Colab\"/></a>"
      ]
    },
    {
      "cell_type": "code",
      "execution_count": null,
      "metadata": {
        "id": "K5QRPfVtpQtX"
      },
      "outputs": [],
      "source": [
        "print('Hi!')\n",
        "a=33\n",
        "b=36\n",
        "sum=a+b\n",
        "print('',sum)"
      ]
    },
    {
      "cell_type": "code",
      "source": [
        "import numpy as np\n",
        "arr=np.array((1,2,3))\n",
        "print('Array=',arr)\n",
        "print(type(arr))"
      ],
      "metadata": {
        "colab": {
          "base_uri": "https://localhost:8080/"
        },
        "id": "-J2GMrvdsMW9",
        "outputId": "50a05de5-6ec7-431e-d0e7-36e9d176e730"
      },
      "execution_count": null,
      "outputs": [
        {
          "output_type": "stream",
          "name": "stdout",
          "text": [
            "Array= [1 2 3]\n",
            "<class 'numpy.ndarray'>\n"
          ]
        }
      ]
    }
  ]
}